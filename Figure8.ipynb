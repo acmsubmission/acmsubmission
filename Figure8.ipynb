{
 "cells": [
  {
   "cell_type": "code",
   "execution_count": 18,
   "metadata": {},
   "outputs": [],
   "source": [
    "from sklearn.model_selection import LeaveOneOut, KFold\n",
    "from sklearn.ensemble import RandomForestRegressor\n",
    "from sklearn.tree import DecisionTreeRegressor\n",
    "from sklearn.ensemble import GradientBoostingRegressor\n",
    "from sklearn.metrics import mean_squared_error, mean_absolute_percentage_error,mean_absolute_error\n",
    "import pandas as pd\n",
    "from spiro.models import *\n",
    "import random\n",
    "import numpy as np\n",
    "import pickle\n",
    "from sklearn.preprocessing import StandardScaler, MinMaxScaler\n",
    "import spiro.data_preprocessing\n",
    "\n",
    "random.seed(0)\n",
    "np.random.seed(0)"
   ]
  },
  {
   "cell_type": "code",
   "execution_count": 19,
   "metadata": {},
   "outputs": [],
   "source": [
    "import matplotlib.pyplot as plt\n",
    "import seaborn as sns\n",
    "from tueplots import bundles\n",
    "import numpy as np"
   ]
  },
  {
   "cell_type": "code",
   "execution_count": 20,
   "metadata": {},
   "outputs": [],
   "source": [
    "data = pd.read_csv(\"../data/feature_30_joint_51.csv\")\n",
    "data= data[~data.iloc[:,0].isin([21,48])].reset_index(drop=True)\n",
    "data.drop(\"Unnamed: 0\",axis=1,inplace=True)"
   ]
  },
  {
   "cell_type": "code",
   "execution_count": 21,
   "metadata": {},
   "outputs": [],
   "source": [
    "labels = pd.read_csv(\"../data/labels.csv\")"
   ]
  },
  {
   "cell_type": "code",
   "execution_count": 22,
   "metadata": {},
   "outputs": [],
   "source": [
    "final_data= pd.DataFrame(data)"
   ]
  },
  {
   "cell_type": "code",
   "execution_count": 23,
   "metadata": {},
   "outputs": [],
   "source": [
    "demographic_data = pd.read_csv(\"../data/GroundTruth_Dataset.csv\")"
   ]
  },
  {
   "cell_type": "code",
   "execution_count": 24,
   "metadata": {},
   "outputs": [],
   "source": [
    "PID= ['P0', 'P2', 'P3', 'P5', 'P6', 'P9', 'P10', 'P12', 'P13', 'P14', 'P15', 'P17', 'P18', 'P19', 'P20', 'P21', 'P23', 'P26', 'P27', 'P28', 'P29', 'P31', 'P32', 'P33', 'P36','P38', 'P39', 'P40', 'P41', 'P42', 'P43', 'P44', 'P45', 'P46','P50', 'P51', 'P52', 'P53', 'P55', 'P57', 'P58', 'P60', 'P61','P62', 'P63', 'P65', 'P66', 'P69', 'P70', 'P71','P73']"
   ]
  },
  {
   "cell_type": "code",
   "execution_count": 25,
   "metadata": {},
   "outputs": [
    {
     "data": {
      "text/plain": [
       "(51, 17)"
      ]
     },
     "execution_count": 25,
     "metadata": {},
     "output_type": "execute_result"
    }
   ],
   "source": [
    "demographic_data= demographic_data[demographic_data.iloc[:,1].isin(PID)].reset_index(drop=True)\n",
    "demographic_data.shape"
   ]
  },
  {
   "cell_type": "code",
   "execution_count": 26,
   "metadata": {},
   "outputs": [],
   "source": [
    "final_data['Sex'] = demographic_data['Sex'].map({'M': 0, 'F': 1})"
   ]
  },
  {
   "cell_type": "code",
   "execution_count": 27,
   "metadata": {},
   "outputs": [],
   "source": [
    "final_data= pd.concat((final_data,pd.DataFrame(demographic_data.iloc[:,7:10])),axis=1,ignore_index=True)"
   ]
  },
  {
   "cell_type": "code",
   "execution_count": 28,
   "metadata": {},
   "outputs": [],
   "source": [
    "X1 = final_data.iloc[:,:30].astype(float)\n",
    "X1 = MinMaxScaler().fit_transform(np.array(X1))\n",
    "X1 = pd.DataFrame(X1)\n",
    "y = labels.iloc[:,-1].astype(float)\n",
    "\n",
    "\n",
    "X2 = final_data.astype(float)\n",
    "X2 = MinMaxScaler().fit_transform(np.array(X2))\n",
    "X2 = pd.DataFrame(X2)\n",
    "\n",
    "#For FEV1 \n",
    "# y= labels.iloc[:,-2].astype(float)"
   ]
  },
  {
   "cell_type": "code",
   "execution_count": 29,
   "metadata": {},
   "outputs": [
    {
     "data": {
      "text/plain": [
       "((51, 30), (51, 34), (51,))"
      ]
     },
     "execution_count": 29,
     "metadata": {},
     "output_type": "execute_result"
    }
   ],
   "source": [
    "X1.shape,X2.shape,y.shape"
   ]
  },
  {
   "cell_type": "markdown",
   "metadata": {},
   "source": [
    "# Without Demographics"
   ]
  },
  {
   "cell_type": "markdown",
   "metadata": {},
   "source": [
    "#### FEV1"
   ]
  },
  {
   "cell_type": "code",
   "execution_count": 30,
   "metadata": {},
   "outputs": [
    {
     "name": "stdout",
     "output_type": "stream",
     "text": [
      "=-=-=-=-=-=-=-=-=-=-=-=-=-=-=-=-=-=-=-=-=-=-=-=-=-=-=-=-=-==-=-=-=-=\n",
      "Random Forest Regressor for FEV1 with 30 features (without demographics)\n",
      "=-=-=-=-=-=-=-=-=-=-=-=-=-=-=-=-=-=-=-=-=-=\n",
      "Random Forest metrics : \n",
      "\tMean Absolute Percentage Error :  5.288223489526106\n",
      "\tMean Aabsolute Error :  0.15850392156862736\n",
      "\tMean Square Error :  0.2104297176694189\n",
      "=-=-=-=-=-=-=-=-=-=-=-=-=-=-=-=-=-=-=-=-=-=\n",
      "=-=-=-=-=-=-=-=-=-=-=-=-=-=-=-=-=-=-=-=-=-=-=-=-=-=-=-=-=-==-=-=-=-=\n",
      "Decision Tree Regressor for FEV1 with 30 features (without demographics)\n",
      "=-=-=-=-=-=-=-=-=-=-=-=-=-=-=-=-=-=-=-=-=-=\n",
      "Decision Tree metrics : \n",
      "\tMean Absolute Percentage Error :  6.412435252754866\n",
      "\tMean Aabsolute Error :  0.1894117647058824\n",
      "\tMean Square Error :  0.2509042470275675\n",
      "=-=-=-=-=-=-=-=-=-=-=-=-=-=-=-=-=-=-=-=-=-=\n",
      "=-=-=-=-=-=-=-=-=-=-=-=-=-=-=-=-=-=-=-=-=-=-=-=-=-=-=-=-=-==-=-=-=-=\n",
      "Gradient Boosting Regressor for FEV1 with 30 features (without demographics)\n",
      "=-=-=-=-=-=-=-=-=-=-=-=-=-=-=-=-=-=-=-=-=-=\n",
      "Gradient Boosting metrics : \n",
      "\tMean Absolute Percentage Error :  5.0945217378412\n",
      "\tMean Aabsolute Error :  0.15355842401208222\n",
      "\tMean Square Error :  0.1960782705261946\n",
      "=-=-=-=-=-=-=-=-=-=-=-=-=-=-=-=-=-=-=-=-=-=\n",
      "=-=-=-=-=-=-=-=-=-=-=-=-=-=-=-=-=-=-=-=-=-=-=-=-=-=-=-=-=-==-=-=-=-=\n",
      "Committee Regressor Regressor for FEV1 with 30 features (without demographics)\n",
      "=-=-=-=-=-=-=-=-=-=-=-=-=-=-=-=-=-=-=-=-=-=\n",
      "Committee Regressor metrics : \n",
      "\tMean Absolute Percentage Error :  4.964857353795691\n",
      "\tMean Aabsolute Error :  0.14978242616131388\n",
      "\tMean Square Error :  0.1976580181997806\n",
      "=-=-=-=-=-=-=-=-=-=-=-=-=-=-=-=-=-=-=-=-=-=\n",
      "{'Random Forest': 5.288223489526106, 'Decision Tree': 6.412435252754866, 'Gradient Boosting': 5.0945217378412, 'Committee Regressor': 4.964857353795691}\n"
     ]
    }
   ],
   "source": [
    "#For FEV1\n",
    "y = labels.iloc[:,-2].astype(float)\n",
    "\n",
    "committee_list = [\n",
    "    GradientBoostingRegressor(loss=\"absolute_error\", random_state=0),\n",
    "    RandomForestRegressor(random_state=0),\n",
    "    DecisionTreeRegressor(random_state=0)\n",
    "]\n",
    "models = [RandomForestRegressor(random_state=42), DecisionTreeRegressor(random_state=42), GradientBoostingRegressor(random_state=42), CommitteeRegressor(committee_list)]\n",
    "model_names = [\"Random Forest\", \"Decision Tree\", \"Gradient Boosting\",  \"Committee Regressor\"]\n",
    "mape_dict = {}\n",
    "loo = LeaveOneOut()\n",
    "tot = len(X1)\n",
    "\n",
    "for j, model in enumerate(models):\n",
    "    prog        = 0\n",
    "    y_GT        = []\n",
    "    y_PT        = []\n",
    "    abserror    = []\n",
    "    print(\"=-=-=-=-=-=-=-=-=-=-=-=-=-=-=-=-=-=-=-=-=-=-=-=-=-=-=-=-=-==-=-=-=-=\")\n",
    "    print(\"{0} Regressor for FEV1 with {1} features (without demographics)\".format(model_names[j],30))\n",
    "    # For every split obtained by Leave_One_Out split function.\n",
    "    for i,(train_index, test_index) in enumerate(loo.split(X1)):\n",
    "        \n",
    "        # To show some sort of progress.\n",
    "        prog = prog + 1\n",
    "        print(\"Progress : {0}/{1}\".format(prog,tot),end = '\\r')\n",
    "\n",
    "        # Test-train split for the fold.\n",
    "        X_Train, X_Test = X1.iloc[train_index],X1.iloc[test_index]\n",
    "        y_Train, y_Test = y.iloc[train_index],y.iloc[test_index]\n",
    "        \n",
    "        # Training new Random Forest ensemble.\n",
    "        model.fit(X_Train, y_Train)\n",
    "        pred = model.predict(X_Test)  \n",
    "\n",
    "        # print(\"Ground Truth : {0}\".format(np.array(y_Test)[0]))\n",
    "        # Storing the values of Ground truth and Predicted value for future use.\n",
    "        # print(np.array(y_Test)[0])\n",
    "        y_GT.append(np.array(y_Test)[0])\n",
    "        y_PT.append(pred[0]) \n",
    "\n",
    "\n",
    "    print(\"=-=-=-=-=-=-=-=-=-=-=-=-=-=-=-=-=-=-=-=-=-=\")\n",
    "    print(\"{0} metrics : \".format(model_names[j]))\n",
    "    mape = 100 * mean_absolute_percentage_error(y_GT,y_PT)\n",
    "    print(\"\\tMean Absolute Percentage Error : \" , mape)\n",
    "    mape_dict[model_names[j]] = mape\n",
    "    print(\"\\tMean Aabsolute Error : \" , mean_absolute_error(y_GT,y_PT))\n",
    "    print(\"\\tMean Square Error : \" , mean_squared_error(y_GT,y_PT,squared=False))\n",
    "    print(\"=-=-=-=-=-=-=-=-=-=-=-=-=-=-=-=-=-=-=-=-=-=\")\n",
    "\n",
    "print(mape_dict)\n",
    "\n",
    "with open('../results/figure8/fev1/mape_wo_demographic.pkl', 'wb') as f:\n",
    "    pickle.dump(mape_dict, f)"
   ]
  },
  {
   "cell_type": "markdown",
   "metadata": {},
   "source": [
    "#### FVC"
   ]
  },
  {
   "cell_type": "code",
   "execution_count": 31,
   "metadata": {},
   "outputs": [
    {
     "name": "stdout",
     "output_type": "stream",
     "text": [
      "=-=-=-=-=-=-=-=-=-=-=-=-=-=-=-=-=-=-=-=-=-=-=-=-=-=-=-=-=-==-=-=-=-=\n",
      "Random Forest Regressor for FVC with 30 features (without demographics)\n",
      "=-=-=-=-=-=-=-=-=-=-=-=-=-=-=-=-=-=-=-=-=-=\n",
      "Random Forest metrics : \n",
      "\tMean Absolute Percentage Error :  4.580250399527127\n",
      "\tMean Aabsolute Error :  0.15071764705882332\n",
      "\tMean Square Error :  0.1915421215130638\n",
      "=-=-=-=-=-=-=-=-=-=-=-=-=-=-=-=-=-=-=-=-=-=\n",
      "=-=-=-=-=-=-=-=-=-=-=-=-=-=-=-=-=-=-=-=-=-=-=-=-=-=-=-=-=-==-=-=-=-=\n",
      "Decision Tree Regressor for FVC with 30 features (without demographics)\n",
      "=-=-=-=-=-=-=-=-=-=-=-=-=-=-=-=-=-=-=-=-=-=\n",
      "Decision Tree metrics : \n",
      "\tMean Absolute Percentage Error :  5.145846078816129\n",
      "\tMean Aabsolute Error :  0.17215686274509806\n",
      "\tMean Square Error :  0.2534468270025235\n",
      "=-=-=-=-=-=-=-=-=-=-=-=-=-=-=-=-=-=-=-=-=-=\n",
      "=-=-=-=-=-=-=-=-=-=-=-=-=-=-=-=-=-=-=-=-=-=-=-=-=-=-=-=-=-==-=-=-=-=\n",
      "Gradient Boosting Regressor for FVC with 30 features (without demographics)\n",
      "=-=-=-=-=-=-=-=-=-=-=-=-=-=-=-=-=-=-=-=-=-=\n",
      "Gradient Boosting metrics : \n",
      "\tMean Absolute Percentage Error :  4.2929844715344885\n",
      "\tMean Aabsolute Error :  0.14248344243940525\n",
      "\tMean Square Error :  0.19101970867434434\n",
      "=-=-=-=-=-=-=-=-=-=-=-=-=-=-=-=-=-=-=-=-=-=\n",
      "=-=-=-=-=-=-=-=-=-=-=-=-=-=-=-=-=-=-=-=-=-=-=-=-=-=-=-=-=-==-=-=-=-=\n",
      "Committee Regressor Regressor for FVC with 30 features (without demographics)\n",
      "=-=-=-=-=-=-=-=-=-=-=-=-=-=-=-=-=-=-=-=-=-=\n",
      "Committee Regressor metrics : \n",
      "\tMean Absolute Percentage Error :  4.464530107879964\n",
      "\tMean Aabsolute Error :  0.14852677676495685\n",
      "\tMean Square Error :  0.19453693126403976\n",
      "=-=-=-=-=-=-=-=-=-=-=-=-=-=-=-=-=-=-=-=-=-=\n",
      "{'Random Forest': 4.580250399527127, 'Decision Tree': 5.145846078816129, 'Gradient Boosting': 4.2929844715344885, 'Committee Regressor': 4.464530107879964}\n"
     ]
    }
   ],
   "source": [
    "#For FVC\n",
    "y = labels.iloc[:,-1].astype(float)\n",
    "\n",
    "committee_list = [\n",
    "    GradientBoostingRegressor(loss=\"absolute_error\", random_state=108),\n",
    "    RandomForestRegressor(random_state=108),\n",
    "    DecisionTreeRegressor(random_state=108)\n",
    "]\n",
    "models = [RandomForestRegressor(random_state=42), DecisionTreeRegressor(random_state=42), GradientBoostingRegressor(random_state=42), CommitteeRegressor(committee_list)]\n",
    "model_names = [\"Random Forest\", \"Decision Tree\", \"Gradient Boosting\", \"Committee Regressor\"]\n",
    "mape_dict = {}\n",
    "loo = LeaveOneOut()\n",
    "tot = len(X1)\n",
    "\n",
    "for j, model in enumerate(models):\n",
    "    prog        = 0\n",
    "    y_GT        = []\n",
    "    y_PT        = []\n",
    "    abserror    = []\n",
    "    print(\"=-=-=-=-=-=-=-=-=-=-=-=-=-=-=-=-=-=-=-=-=-=-=-=-=-=-=-=-=-==-=-=-=-=\")\n",
    "    print(\"{0} Regressor for FVC with {1} features (without demographics)\".format(model_names[j],30))\n",
    "    # For every split obtained by Leave_One_Out split function.\n",
    "    for i,(train_index, test_index) in enumerate(loo.split(X1)):\n",
    "        \n",
    "        # To show some sort of progress.\n",
    "        prog = prog + 1\n",
    "        print(\"Progress : {0}/{1}\".format(prog,tot),end = '\\r')\n",
    "\n",
    "        # Test-train split for the fold.\n",
    "        X_Train, X_Test = X1.iloc[train_index],X1.iloc[test_index]\n",
    "        y_Train, y_Test = y.iloc[train_index],y.iloc[test_index]\n",
    "        \n",
    "        # Training new Random Forest ensemble.\n",
    "        model.fit(X_Train, y_Train)\n",
    "        pred = model.predict(X_Test)  \n",
    "\n",
    "        # print(\"Ground Truth : {0}\".format(np.array(y_Test)[0]))\n",
    "        # Storing the values of Ground truth and Predicted value for future use.\n",
    "        # print(np.array(y_Test)[0])\n",
    "        y_GT.append(np.array(y_Test)[0])\n",
    "        y_PT.append(pred[0]) \n",
    "\n",
    "\n",
    "    print(\"=-=-=-=-=-=-=-=-=-=-=-=-=-=-=-=-=-=-=-=-=-=\")\n",
    "    print(\"{0} metrics : \".format(model_names[j]))\n",
    "    mape = 100 * mean_absolute_percentage_error(y_GT,y_PT)\n",
    "    print(\"\\tMean Absolute Percentage Error : \" , mape)\n",
    "    mape_dict[model_names[j]] = mape\n",
    "    print(\"\\tMean Aabsolute Error : \" , mean_absolute_error(y_GT,y_PT))\n",
    "    print(\"\\tMean Square Error : \" , mean_squared_error(y_GT,y_PT,squared=False))\n",
    "    print(\"=-=-=-=-=-=-=-=-=-=-=-=-=-=-=-=-=-=-=-=-=-=\")\n",
    "\n",
    "print(mape_dict)\n",
    "\n",
    "with open('../results/figure8/fvc/mape_wo_demographic.pkl', 'wb') as f:\n",
    "    pickle.dump(mape_dict, f)"
   ]
  },
  {
   "cell_type": "markdown",
   "metadata": {},
   "source": [
    "# With Demographics"
   ]
  },
  {
   "cell_type": "code",
   "execution_count": 32,
   "metadata": {},
   "outputs": [
    {
     "name": "stdout",
     "output_type": "stream",
     "text": [
      "=-=-=-=-=-=-=-=-=-=-=-=-=-=-=-=-=-=-=-=-=-=-=-=-=-=-=-=-=-==-=-=-=-=\n",
      "Random Forest Regressor for FEV1 with 30 features (demographics)\n",
      "=-=-=-=-=-=-=-=-=-=-=-=-=-=-=-=-=-=-=-=-=-=\n",
      "Random Forest metrics : \n",
      "\tMean Absolute Percentage Error :  4.309750530203754\n",
      "\tMean Aabsolute Error :  0.12720196078431412\n",
      "\tMean Square Error :  0.1720653973941077\n",
      "=-=-=-=-=-=-=-=-=-=-=-=-=-=-=-=-=-=-=-=-=-=\n",
      "=-=-=-=-=-=-=-=-=-=-=-=-=-=-=-=-=-=-=-=-=-=-=-=-=-=-=-=-=-==-=-=-=-=\n",
      "Decision Tree Regressor for FEV1 with 30 features (demographics)\n",
      "=-=-=-=-=-=-=-=-=-=-=-=-=-=-=-=-=-=-=-=-=-=\n",
      "Decision Tree metrics : \n",
      "\tMean Absolute Percentage Error :  6.178406613154305\n",
      "\tMean Aabsolute Error :  0.18098039215686276\n",
      "\tMean Square Error :  0.24905704520190927\n",
      "=-=-=-=-=-=-=-=-=-=-=-=-=-=-=-=-=-=-=-=-=-=\n",
      "=-=-=-=-=-=-=-=-=-=-=-=-=-=-=-=-=-=-=-=-=-=-=-=-=-=-=-=-=-==-=-=-=-=\n",
      "Gradient Boosting Regressor for FEV1 with 30 features (demographics)\n",
      "=-=-=-=-=-=-=-=-=-=-=-=-=-=-=-=-=-=-=-=-=-=\n",
      "Gradient Boosting metrics : \n",
      "\tMean Absolute Percentage Error :  3.475848446122999\n",
      "\tMean Aabsolute Error :  0.10235979940125534\n",
      "\tMean Square Error :  0.14032506111805926\n",
      "=-=-=-=-=-=-=-=-=-=-=-=-=-=-=-=-=-=-=-=-=-=\n",
      "=-=-=-=-=-=-=-=-=-=-=-=-=-=-=-=-=-=-=-=-=-=-=-=-=-=-=-=-=-==-=-=-=-=\n",
      "Committee Regressor Regressor for FEV1 with 30 features (demographics)\n",
      "=-=-=-=-=-=-=-=-=-=-=-=-=-=-=-=-=-=-=-=-=-=\n",
      "Committee Regressor metrics : \n",
      "\tMean Absolute Percentage Error :  4.368722659235642\n",
      "\tMean Aabsolute Error :  0.12905938601546077\n",
      "\tMean Square Error :  0.17392076079025282\n",
      "=-=-=-=-=-=-=-=-=-=-=-=-=-=-=-=-=-=-=-=-=-=\n",
      "{'Random Forest': 4.309750530203754, 'Decision Tree': 6.178406613154305, 'Gradient Boosting': 3.475848446122999, 'Committee Regressor': 4.368722659235642}\n"
     ]
    }
   ],
   "source": [
    "#For FEV1\n",
    "y = labels.iloc[:,-2].astype(float)\n",
    "\n",
    "committee_list = [\n",
    "    GradientBoostingRegressor(loss=\"absolute_error\", random_state=0),\n",
    "    RandomForestRegressor(random_state=0),\n",
    "    DecisionTreeRegressor(random_state=0)\n",
    "]\n",
    "models = [RandomForestRegressor(random_state=42), DecisionTreeRegressor(random_state=0), GradientBoostingRegressor(random_state=42), CommitteeRegressor(committee_list)]\n",
    "model_names = [\"Random Forest\", \"Decision Tree\", \"Gradient Boosting\",  \"Committee Regressor\"]\n",
    "mape_dict = {}\n",
    "loo = LeaveOneOut()\n",
    "tot = len(X2)\n",
    "\n",
    "for j, model in enumerate(models):\n",
    "    prog        = 0\n",
    "    y_GT        = []\n",
    "    y_PT        = []\n",
    "    abserror    = []\n",
    "    print(\"=-=-=-=-=-=-=-=-=-=-=-=-=-=-=-=-=-=-=-=-=-=-=-=-=-=-=-=-=-==-=-=-=-=\")\n",
    "    print(\"{0} Regressor for FEV1 with {1} features (demographics)\".format(model_names[j],30))\n",
    "    # For every split obtained by Leave_One_Out split function.\n",
    "    for i,(train_index, test_index) in enumerate(loo.split(X2)):\n",
    "        \n",
    "        # To show some sort of progress.\n",
    "        prog = prog + 1\n",
    "        print(\"Progress : {0}/{1}\".format(prog,tot),end = '\\r')\n",
    "\n",
    "        # Test-train split for the fold.\n",
    "        X_Train, X_Test = X2.iloc[train_index],X2.iloc[test_index]\n",
    "        y_Train, y_Test = y.iloc[train_index],y.iloc[test_index]\n",
    "        \n",
    "        # Training new Random Forest ensemble.\n",
    "        model.fit(X_Train, y_Train)\n",
    "        pred = model.predict(X_Test)  \n",
    "\n",
    "        # print(\"Ground Truth : {0}\".format(np.array(y_Test)[0]))\n",
    "        # Storing the values of Ground truth and Predicted value for future use.\n",
    "        # print(np.array(y_Test)[0])\n",
    "        y_GT.append(np.array(y_Test)[0])\n",
    "        y_PT.append(pred[0]) \n",
    "\n",
    "\n",
    "    print(\"=-=-=-=-=-=-=-=-=-=-=-=-=-=-=-=-=-=-=-=-=-=\")\n",
    "    print(\"{0} metrics : \".format(model_names[j]))\n",
    "    mape = 100 * mean_absolute_percentage_error(y_GT,y_PT)\n",
    "    print(\"\\tMean Absolute Percentage Error : \" , mape)\n",
    "    mape_dict[model_names[j]] = mape\n",
    "    print(\"\\tMean Aabsolute Error : \" , mean_absolute_error(y_GT,y_PT))\n",
    "    print(\"\\tMean Square Error : \" , mean_squared_error(y_GT,y_PT,squared=False))\n",
    "    print(\"=-=-=-=-=-=-=-=-=-=-=-=-=-=-=-=-=-=-=-=-=-=\")\n",
    "\n",
    "print(mape_dict)\n",
    "\n",
    "with open('../results/figure8/fev1/mape_w_demographic.pkl', 'wb') as f:\n",
    "    pickle.dump(mape_dict, f)"
   ]
  },
  {
   "cell_type": "code",
   "execution_count": 33,
   "metadata": {},
   "outputs": [
    {
     "name": "stdout",
     "output_type": "stream",
     "text": [
      "=-=-=-=-=-=-=-=-=-=-=-=-=-=-=-=-=-=-=-=-=-=-=-=-=-=-=-=-=-==-=-=-=-=\n",
      "Random Forest Regressor for FVC with 30 features (demographics)\n",
      "=-=-=-=-=-=-=-=-=-=-=-=-=-=-=-=-=-=-=-=-=-=\n",
      "Random Forest metrics : \n",
      "\tMean Absolute Percentage Error :  4.029816167406599\n",
      "\tMean Aabsolute Error :  0.132513725490196\n",
      "\tMean Square Error :  0.17307048433808553\n",
      "=-=-=-=-=-=-=-=-=-=-=-=-=-=-=-=-=-=-=-=-=-=\n",
      "=-=-=-=-=-=-=-=-=-=-=-=-=-=-=-=-=-=-=-=-=-=-=-=-=-=-=-=-=-==-=-=-=-=\n",
      "Decision Tree Regressor for FVC with 30 features (demographics)\n",
      "=-=-=-=-=-=-=-=-=-=-=-=-=-=-=-=-=-=-=-=-=-=\n",
      "Decision Tree metrics : \n",
      "\tMean Absolute Percentage Error :  4.445504764749398\n",
      "\tMean Aabsolute Error :  0.14568627450980393\n",
      "\tMean Square Error :  0.21754873242653508\n",
      "=-=-=-=-=-=-=-=-=-=-=-=-=-=-=-=-=-=-=-=-=-=\n",
      "=-=-=-=-=-=-=-=-=-=-=-=-=-=-=-=-=-=-=-=-=-=-=-=-=-=-=-=-=-==-=-=-=-=\n",
      "Gradient Boosting Regressor for FVC with 30 features (demographics)\n",
      "=-=-=-=-=-=-=-=-=-=-=-=-=-=-=-=-=-=-=-=-=-=\n",
      "Gradient Boosting metrics : \n",
      "\tMean Absolute Percentage Error :  3.706812346523808\n",
      "\tMean Aabsolute Error :  0.12235948439703194\n",
      "\tMean Square Error :  0.17078217638883542\n",
      "=-=-=-=-=-=-=-=-=-=-=-=-=-=-=-=-=-=-=-=-=-=\n",
      "=-=-=-=-=-=-=-=-=-=-=-=-=-=-=-=-=-=-=-=-=-=-=-=-=-=-=-=-=-==-=-=-=-=\n",
      "Committee Regressor Regressor for FVC with 30 features (demographics)\n",
      "=-=-=-=-=-=-=-=-=-=-=-=-=-=-=-=-=-=-=-=-=-=\n",
      "Committee Regressor metrics : \n",
      "\tMean Absolute Percentage Error :  3.845993970217796\n",
      "\tMean Aabsolute Error :  0.1280110935068337\n",
      "\tMean Square Error :  0.17561626305450947\n",
      "=-=-=-=-=-=-=-=-=-=-=-=-=-=-=-=-=-=-=-=-=-=\n",
      "{'Random Forest': 4.029816167406599, 'Decision Tree': 4.445504764749398, 'Gradient Boosting': 3.706812346523808, 'Committee Regressor': 3.845993970217796}\n"
     ]
    }
   ],
   "source": [
    "#For FVC\n",
    "y = labels.iloc[:,-1].astype(float)\n",
    "\n",
    "committee_list = [\n",
    "    GradientBoostingRegressor(loss=\"absolute_error\", random_state=108),\n",
    "    RandomForestRegressor(random_state=108),\n",
    "    DecisionTreeRegressor(random_state=108)\n",
    "]\n",
    "models = [RandomForestRegressor(random_state=42), DecisionTreeRegressor(random_state=0), GradientBoostingRegressor(random_state=42), CommitteeRegressor(committee_list)]\n",
    "model_names = [\"Random Forest\", \"Decision Tree\", \"Gradient Boosting\", \"Committee Regressor\"]\n",
    "mape_dict = {}\n",
    "loo = LeaveOneOut()\n",
    "tot = len(X2)\n",
    "\n",
    "for j, model in enumerate(models):\n",
    "    prog        = 0\n",
    "    y_GT        = []\n",
    "    y_PT        = []\n",
    "    abserror    = []\n",
    "    print(\"=-=-=-=-=-=-=-=-=-=-=-=-=-=-=-=-=-=-=-=-=-=-=-=-=-=-=-=-=-==-=-=-=-=\")\n",
    "    print(\"{0} Regressor for FVC with {1} features (demographics)\".format(model_names[j],30))\n",
    "    # For every split obtained by Leave_One_Out split function.\n",
    "    for i,(train_index, test_index) in enumerate(loo.split(X2)):\n",
    "        \n",
    "        # To show some sort of progress.\n",
    "        prog = prog + 1\n",
    "        print(\"Progress : {0}/{1}\".format(prog,tot),end = '\\r')\n",
    "\n",
    "        # Test-train split for the fold.\n",
    "        X_Train, X_Test = X2.iloc[train_index],X2.iloc[test_index]\n",
    "        y_Train, y_Test = y.iloc[train_index],y.iloc[test_index]\n",
    "        \n",
    "        # Training new Random Forest ensemble.\n",
    "        model.fit(X_Train, y_Train)\n",
    "        pred = model.predict(X_Test)  \n",
    "\n",
    "        # print(\"Ground Truth : {0}\".format(np.array(y_Test)[0]))\n",
    "        # Storing the values of Ground truth and Predicted value for future use.\n",
    "        # print(np.array(y_Test)[0])\n",
    "        y_GT.append(np.array(y_Test)[0])\n",
    "        y_PT.append(pred[0]) \n",
    "\n",
    "\n",
    "    print(\"=-=-=-=-=-=-=-=-=-=-=-=-=-=-=-=-=-=-=-=-=-=\")\n",
    "    print(\"{0} metrics : \".format(model_names[j]))\n",
    "    mape = 100 * mean_absolute_percentage_error(y_GT,y_PT)\n",
    "    print(\"\\tMean Absolute Percentage Error : \" , mape)\n",
    "    mape_dict[model_names[j]] = mape\n",
    "    print(\"\\tMean Aabsolute Error : \" , mean_absolute_error(y_GT,y_PT))\n",
    "    print(\"\\tMean Square Error : \" , mean_squared_error(y_GT,y_PT,squared=False))\n",
    "    print(\"=-=-=-=-=-=-=-=-=-=-=-=-=-=-=-=-=-=-=-=-=-=\")\n",
    "\n",
    "print(mape_dict)\n",
    "\n",
    "with open('../results/figure8/fvc/mape_w_demographic.pkl', 'wb') as f:\n",
    "    pickle.dump(mape_dict, f)"
   ]
  },
  {
   "cell_type": "code",
   "execution_count": 34,
   "metadata": {},
   "outputs": [],
   "source": [
    "# load data\n",
    "with open('../results/figure8/fev1/mape_wo_demographic.pkl', 'rb') as f:\n",
    "    mape_wo_demographic_fev1 = pickle.load(f)\n",
    "\n",
    "with open('../results/figure8/fvc/mape_wo_demographic.pkl', 'rb') as f:\n",
    "    mape_wo_demographic_fvc = pickle.load(f)\n",
    "\n",
    "with open('../results/figure8/fev1/mape_w_demographic.pkl', 'rb') as f:\n",
    "    mape_w_demographic_fev1 = pickle.load(f)\n",
    "\n",
    "with open('../results/figure8/fvc/mape_w_demographic.pkl', 'rb') as f:\n",
    "    mape_w_demographic_fvc = pickle.load(f)"
   ]
  },
  {
   "cell_type": "code",
   "execution_count": 35,
   "metadata": {},
   "outputs": [],
   "source": [
    "fvc_demo = [round(value, 2) for value in mape_w_demographic_fvc.values()]\n",
    "fev1_demo = [round(value, 2) for value in mape_w_demographic_fev1.values()]\n",
    "\n",
    "fvc_wo_demo = [round(value, 2) for value in mape_wo_demographic_fvc.values()]\n",
    "fev1_wo_demo = [round(value, 2) for value in mape_wo_demographic_fev1.values()]"
   ]
  },
  {
   "cell_type": "code",
   "execution_count": 36,
   "metadata": {},
   "outputs": [],
   "source": [
    "fvc_list = list(zip(fvc_wo_demo, fvc_demo))\n",
    "fev1_list = list(zip(fev1_wo_demo, fev1_demo))"
   ]
  },
  {
   "cell_type": "code",
   "execution_count": 41,
   "metadata": {},
   "outputs": [
    {
     "data": {
      "image/png": "[encoded data removed]",
      "text/plain": [
       "<Figure size 390x241.033 with 1 Axes>"
      ]
     },
     "metadata": {},
     "output_type": "display_data"
    }
   ],
   "source": [
    "#With Demographics\n",
    "plt.rcParams.update(bundles.tmlr2023(rel_width=0.6))\n",
    "\n",
    "legend_labels = ['Without Demographics','With Demographics']\n",
    "colors = [\"#3f51b5\",\"#4caf50\"]\n",
    "\n",
    "plt.rcParams['axes.labelsize']=12\n",
    "# plt.rcParams['legend.fontsize']=9\n",
    "plt.rcParams['xtick.labelsize']=10\n",
    "fig = plt.figure()\n",
    "ax = fig.gca()\n",
    "# Define the data\n",
    "labels = ['RF','DT','GB', 'RegressorCommittee']\n",
    "# data = [[4.58,4.03],[5.15,4.44],[4.29,3.71],[4.45,3.84]]\n",
    "data = fev1_list\n",
    "bar_width = 0.3\n",
    "x = np.arange(len(labels))\n",
    "\n",
    "for m,i in enumerate(zip(legend_labels,colors)):\n",
    "    rects = ax.bar(x + m*bar_width, [d[m] for d in data], bar_width, label=i[0],color=i[1])\n",
    "\n",
    "for bar in ax.patches:\n",
    "    cy = bar.get_y() + bar.get_height() + 0.25\n",
    "    cx = bar.get_x() + bar.get_width() / 2\n",
    "    ax.text(\n",
    "        cx,\n",
    "        cy,\n",
    "        f\"{bar.get_height():.2f}\",\n",
    "        rotation=0,\n",
    "        color=\"black\",\n",
    "        fontsize=8,\n",
    "        ha=\"center\",\n",
    "        va=\"center\",\n",
    "        zorder=2,\n",
    "        weight=\"bold\",\n",
    "    )\n",
    "# Add labels and title\n",
    "\n",
    "x = np.arange(4)\n",
    "plt.xlabel('Models (FEV1)')\n",
    "# plt.axhline(y=7, color='r', linestyle='--',label='7% ATS Line')\n",
    "plt.ylabel('MAPE (Lower is Better)')\n",
    "plt.xticks(x+0.1, ['RF','DT','GB', 'Committee'])\n",
    "plt.legend(ncol=2)\n",
    "\n",
    "plt.ylim(0,7)\n",
    "# savefig(\"loocv_results.pdf\")\n",
    "sns.despine()\n",
    "\n",
    "plt.savefig('../figures/loocv_with_demo_fev1.pdf', format='pdf')\n",
    "\n",
    "plt.show()"
   ]
  },
  {
   "cell_type": "code",
   "execution_count": 42,
   "metadata": {},
   "outputs": [
    {
     "data": {
      "image/png": "[encoded data removed]",
      "text/plain": [
       "<Figure size 390x241.033 with 1 Axes>"
      ]
     },
     "metadata": {},
     "output_type": "display_data"
    }
   ],
   "source": [
    "#With Demographics\n",
    "plt.rcParams.update(bundles.tmlr2023(rel_width=0.6))\n",
    "\n",
    "legend_labels = ['Without Demographics','With Demographics']\n",
    "colors = [\"#3f51b5\",\"#4caf50\"]\n",
    "\n",
    "plt.rcParams['axes.labelsize']=12\n",
    "# plt.rcParams['legend.fontsize']=9\n",
    "plt.rcParams['xtick.labelsize']=10\n",
    "fig = plt.figure()\n",
    "ax = fig.gca()\n",
    "# Define the data\n",
    "labels = ['RF','DT','GB', 'RegressorCommittee']\n",
    "# data = [[4.58,4.03],[5.15,4.44],[4.29,3.71],[4.45,3.84]]\n",
    "data = fvc_list\n",
    "bar_width = 0.3\n",
    "x = np.arange(len(labels))\n",
    "\n",
    "for m,i in enumerate(zip(legend_labels,colors)):\n",
    "    rects = ax.bar(x + m*bar_width, [d[m] for d in data], bar_width, label=i[0],color=i[1])\n",
    "\n",
    "for bar in ax.patches:\n",
    "    cy = bar.get_y() + bar.get_height() + 0.25\n",
    "    cx = bar.get_x() + bar.get_width() / 2\n",
    "    ax.text(\n",
    "        cx,\n",
    "        cy,\n",
    "        f\"{bar.get_height():.2f}\",\n",
    "        rotation=0,\n",
    "        color=\"black\",\n",
    "        fontsize=8,\n",
    "        ha=\"center\",\n",
    "        va=\"center\",\n",
    "        zorder=2,\n",
    "        weight=\"bold\",\n",
    "    )\n",
    "# Add labels and title\n",
    "\n",
    "x = np.arange(4)\n",
    "plt.xlabel('Models (FVC)')\n",
    "# plt.axhline(y=7, color='r', linestyle='--',label='7% ATS Line')\n",
    "plt.ylabel('MAPE (Lower is Better)')\n",
    "plt.xticks(x+0.1, ['RF','DT','GB', 'Committee'])\n",
    "plt.legend(ncol=2)\n",
    "\n",
    "plt.ylim(0,7)\n",
    "# savefig(\"loocv_results.pdf\")\n",
    "sns.despine()\n",
    "\n",
    "plt.savefig('../figures/loocv_with_demo_fvc.pdf', format='pdf')\n",
    "\n",
    "plt.show()"
   ]
  }
 ],
 "metadata": {
  "kernelspec": {
   "display_name": "madhav",
   "language": "python",
   "name": "python3"
  },
  "language_info": {
   "codemirror_mode": {
    "name": "ipython",
    "version": 3
   },
   "file_extension": ".py",
   "mimetype": "text/x-python",
   "name": "python",
   "nbconvert_exporter": "python",
   "pygments_lexer": "ipython3",
   "version": "3.12.0"
  },
  "orig_nbformat": 4
 },
 "nbformat": 4,
 "nbformat_minor": 2
}
