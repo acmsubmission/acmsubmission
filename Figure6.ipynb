{
 "cells": [
  {
   "cell_type": "code",
   "execution_count": 1,
   "metadata": {},
   "outputs": [],
   "source": [
    "from sklearn.model_selection import LeaveOneOut, KFold\n",
    "from sklearn.ensemble import RandomForestRegressor\n",
    "from sklearn.tree import DecisionTreeRegressor\n",
    "from sklearn.ensemble import GradientBoostingRegressor\n",
    "from sklearn.linear_model import QuantileRegressor\n",
    "from sklearn.metrics import mean_squared_error, mean_absolute_percentage_error,mean_absolute_error\n",
    "import pandas as pd\n",
    "import random\n",
    "from spiro.models import *\n",
    "import numpy as np\n",
    "import pickle\n",
    "from sklearn.preprocessing import StandardScaler, MinMaxScaler\n",
    "import spiro.data_preprocessing\n",
    "\n",
    "random.seed(0)\n",
    "np.random.seed(0)"
   ]
  },
  {
   "cell_type": "code",
   "execution_count": 2,
   "metadata": {},
   "outputs": [],
   "source": [
    "import matplotlib.pyplot as plt\n",
    "import seaborn as sns\n",
    "from tueplots import bundles\n",
    "import numpy as np"
   ]
  },
  {
   "cell_type": "code",
   "execution_count": 3,
   "metadata": {},
   "outputs": [],
   "source": [
    "data = pd.read_csv(\"../data/feature_30_joint_51.csv\")\n",
    "data= data[~data.iloc[:,0].isin([21,48])].reset_index(drop=True)\n",
    "data.drop(\"Unnamed: 0\",axis=1,inplace=True)"
   ]
  },
  {
   "cell_type": "code",
   "execution_count": 4,
   "metadata": {},
   "outputs": [],
   "source": [
    "labels = pd.read_csv(\"../data/labels.csv\")"
   ]
  },
  {
   "cell_type": "code",
   "execution_count": 5,
   "metadata": {},
   "outputs": [],
   "source": [
    "final_data= pd.DataFrame(data)"
   ]
  },
  {
   "cell_type": "code",
   "execution_count": 6,
   "metadata": {},
   "outputs": [],
   "source": [
    "X1 = final_data.astype(float)\n",
    "X1 = MinMaxScaler().fit_transform(np.array(X1))\n",
    "X1 = pd.DataFrame(X1)\n",
    "y = labels.iloc[:,-1].astype(float)\n",
    "\n",
    "#For FEV1 \n",
    "# y= labels.iloc[:,-2].astype(float)"
   ]
  },
  {
   "cell_type": "markdown",
   "metadata": {},
   "source": [
    "### FVC"
   ]
  },
  {
   "cell_type": "code",
   "execution_count": 7,
   "metadata": {},
   "outputs": [
    {
     "name": "stdout",
     "output_type": "stream",
     "text": [
      "=-=-=-=-=-=-=-=-=-=-=-=-=-=-=-=-=-=-=-=-=-=-=-=-=-=-=-=-=-==-=-=-=-=\n",
      "Random Forest Regressor for FVC with 30 features\n",
      "=-=-=-=-=-=-=-=-=-=-=-=-=-=-=-=-=-=-=-=-=-=\n",
      "Random Forest metrics : \n",
      "\tMean Absolute Percentage Error :  4.580250399527127\n",
      "\tMean Aabsolute Error :  0.15071764705882332\n",
      "\tMean Square Error :  0.1915421215130638\n",
      "=-=-=-=-=-=-=-=-=-=-=-=-=-=-=-=-=-=-=-=-=-=\n",
      "=-=-=-=-=-=-=-=-=-=-=-=-=-=-=-=-=-=-=-=-=-=-=-=-=-=-=-=-=-==-=-=-=-=\n",
      "Gradient Boosting Regressor for FVC with 30 features\n",
      "=-=-=-=-=-=-=-=-=-=-=-=-=-=-=-=-=-=-=-=-=-=\n",
      "Gradient Boosting metrics : \n",
      "\tMean Absolute Percentage Error :  5.145846078816129\n",
      "\tMean Aabsolute Error :  0.17215686274509806\n",
      "\tMean Square Error :  0.2534468270025235\n",
      "=-=-=-=-=-=-=-=-=-=-=-=-=-=-=-=-=-=-=-=-=-=\n",
      "=-=-=-=-=-=-=-=-=-=-=-=-=-=-=-=-=-=-=-=-=-=-=-=-=-=-=-=-=-==-=-=-=-=\n",
      "Decision Tree Regressor for FVC with 30 features\n",
      "=-=-=-=-=-=-=-=-=-=-=-=-=-=-=-=-=-=-=-=-=-=\n",
      "Decision Tree metrics : \n",
      "\tMean Absolute Percentage Error :  4.2929844715344885\n",
      "\tMean Aabsolute Error :  0.14248344243940525\n",
      "\tMean Square Error :  0.19101970867434434\n",
      "=-=-=-=-=-=-=-=-=-=-=-=-=-=-=-=-=-=-=-=-=-=\n",
      "=-=-=-=-=-=-=-=-=-=-=-=-=-=-=-=-=-=-=-=-=-=-=-=-=-=-=-=-=-==-=-=-=-=\n",
      "Committee Regressor Regressor for FVC with 30 features\n",
      "=-=-=-=-=-=-=-=-=-=-=-=-=-=-=-=-=-=-=-=-=-=\n",
      "Committee Regressor metrics : \n",
      "\tMean Absolute Percentage Error :  4.464530107879964\n",
      "\tMean Aabsolute Error :  0.14852677676495685\n",
      "\tMean Square Error :  0.19453693126403976\n",
      "=-=-=-=-=-=-=-=-=-=-=-=-=-=-=-=-=-=-=-=-=-=\n",
      "{'Random Forest': 4.580250399527127, 'Gradient Boosting': 5.145846078816129, 'Decision Tree': 4.2929844715344885, 'Committee Regressor': 4.464530107879964}\n"
     ]
    }
   ],
   "source": [
    "#For FVC\n",
    "y = labels.iloc[:,-1].astype(float)\n",
    "\n",
    "committee_list = [\n",
    "    GradientBoostingRegressor(loss=\"absolute_error\", random_state=108),\n",
    "    RandomForestRegressor(random_state=108),\n",
    "    DecisionTreeRegressor(random_state=108)\n",
    "]\n",
    "models = [RandomForestRegressor(random_state=42), DecisionTreeRegressor(random_state=42), GradientBoostingRegressor(random_state=42), CommitteeRegressor(committee_list)]\n",
    "model_names = [\"Random Forest\", \"Gradient Boosting\", \"Decision Tree\", \"Committee Regressor\"]\n",
    "mape_dict = {}\n",
    "loo = LeaveOneOut()\n",
    "tot = len(X1)\n",
    "\n",
    "for j, model in enumerate(models):\n",
    "    prog        = 0\n",
    "    y_GT        = []\n",
    "    y_PT        = []\n",
    "    abserror    = []\n",
    "    print(\"=-=-=-=-=-=-=-=-=-=-=-=-=-=-=-=-=-=-=-=-=-=-=-=-=-=-=-=-=-==-=-=-=-=\")\n",
    "    print(\"{0} Regressor for FVC with {1} features\".format(model_names[j],30))\n",
    "    # For every split obtained by Leave_One_Out split function.\n",
    "    for i,(train_index, test_index) in enumerate(loo.split(X1)):\n",
    "        \n",
    "        # To show some sort of progress.\n",
    "        prog = prog + 1\n",
    "        print(\"Progress : {0}/{1}\".format(prog,tot),end = '\\r')\n",
    "\n",
    "        # Test-train split for the fold.\n",
    "        X_Train, X_Test = X1.iloc[train_index],X1.iloc[test_index]\n",
    "        y_Train, y_Test = y.iloc[train_index],y.iloc[test_index]\n",
    "        \n",
    "        # Training new Random Forest ensemble.\n",
    "        model.fit(X_Train, y_Train)\n",
    "        pred = model.predict(X_Test)  \n",
    "\n",
    "        # print(\"Ground Truth : {0}\".format(np.array(y_Test)[0]))\n",
    "        # Storing the values of Ground truth and Predicted value for future use.\n",
    "        # print(np.array(y_Test)[0])\n",
    "        y_GT.append(np.array(y_Test)[0])\n",
    "        y_PT.append(pred[0]) \n",
    "\n",
    "\n",
    "    print(\"=-=-=-=-=-=-=-=-=-=-=-=-=-=-=-=-=-=-=-=-=-=\")\n",
    "    print(\"{0} metrics : \".format(model_names[j]))\n",
    "    mape = 100 * mean_absolute_percentage_error(y_GT,y_PT)\n",
    "    print(\"\\tMean Absolute Percentage Error : \" , mape)\n",
    "    mape_dict[model_names[j]] = mape\n",
    "    print(\"\\tMean Aabsolute Error : \" , mean_absolute_error(y_GT,y_PT))\n",
    "    print(\"\\tMean Square Error : \" , mean_squared_error(y_GT,y_PT,squared=False))\n",
    "    print(\"=-=-=-=-=-=-=-=-=-=-=-=-=-=-=-=-=-=-=-=-=-=\")\n",
    "\n",
    "print(mape_dict)\n",
    "\n",
    "with open('../results/figure6/fvc/mape_dict.pkl', 'wb') as f:\n",
    "    pickle.dump(mape_dict, f)"
   ]
  },
  {
   "cell_type": "markdown",
   "metadata": {},
   "source": [
    "### FEV1"
   ]
  },
  {
   "cell_type": "code",
   "execution_count": 8,
   "metadata": {},
   "outputs": [
    {
     "name": "stdout",
     "output_type": "stream",
     "text": [
      "=-=-=-=-=-=-=-=-=-=-=-=-=-=-=-=-=-=-=-=-=-=-=-=-=-=-=-=-=-==-=-=-=-=\n",
      "Random Forest Regressor for FEV1 with 30 features\n",
      "=-=-=-=-=-=-=-=-=-=-=-=-=-=-=-=-=-=-=-=-=-=\n",
      "Random Forest metrics : \n",
      "\tMean Absolute Percentage Error :  5.288223489526106\n",
      "\tMean Aabsolute Error :  0.15850392156862736\n",
      "\tMean Square Error :  0.2104297176694189\n",
      "=-=-=-=-=-=-=-=-=-=-=-=-=-=-=-=-=-=-=-=-=-=\n",
      "=-=-=-=-=-=-=-=-=-=-=-=-=-=-=-=-=-=-=-=-=-=-=-=-=-=-=-=-=-==-=-=-=-=\n",
      "Gradient Boosting Regressor for FEV1 with 30 features\n",
      "=-=-=-=-=-=-=-=-=-=-=-=-=-=-=-=-=-=-=-=-=-=\n",
      "Gradient Boosting metrics : \n",
      "\tMean Absolute Percentage Error :  6.412435252754866\n",
      "\tMean Aabsolute Error :  0.1894117647058824\n",
      "\tMean Square Error :  0.2509042470275675\n",
      "=-=-=-=-=-=-=-=-=-=-=-=-=-=-=-=-=-=-=-=-=-=\n",
      "=-=-=-=-=-=-=-=-=-=-=-=-=-=-=-=-=-=-=-=-=-=-=-=-=-=-=-=-=-==-=-=-=-=\n",
      "Decision Tree Regressor for FEV1 with 30 features\n",
      "=-=-=-=-=-=-=-=-=-=-=-=-=-=-=-=-=-=-=-=-=-=\n",
      "Decision Tree metrics : \n",
      "\tMean Absolute Percentage Error :  5.0945217378412\n",
      "\tMean Aabsolute Error :  0.15355842401208222\n",
      "\tMean Square Error :  0.1960782705261946\n",
      "=-=-=-=-=-=-=-=-=-=-=-=-=-=-=-=-=-=-=-=-=-=\n",
      "=-=-=-=-=-=-=-=-=-=-=-=-=-=-=-=-=-=-=-=-=-=-=-=-=-=-=-=-=-==-=-=-=-=\n",
      "Committee Regressor Regressor for FEV1 with 30 features\n",
      "=-=-=-=-=-=-=-=-=-=-=-=-=-=-=-=-=-=-=-=-=-=\n",
      "Committee Regressor metrics : \n",
      "\tMean Absolute Percentage Error :  4.964857353795691\n",
      "\tMean Aabsolute Error :  0.14978242616131388\n",
      "\tMean Square Error :  0.1976580181997806\n",
      "=-=-=-=-=-=-=-=-=-=-=-=-=-=-=-=-=-=-=-=-=-=\n",
      "{'Random Forest': 5.288223489526106, 'Gradient Boosting': 6.412435252754866, 'Decision Tree': 5.0945217378412, 'Committee Regressor': 4.964857353795691}\n"
     ]
    }
   ],
   "source": [
    "#For FEV1 \n",
    "y= labels.iloc[:,-2].astype(float)\n",
    "\n",
    "committee_list = [\n",
    "    GradientBoostingRegressor(loss=\"absolute_error\", random_state=0),\n",
    "    RandomForestRegressor(random_state=0),\n",
    "    DecisionTreeRegressor(random_state=0)\n",
    "]\n",
    "models = [RandomForestRegressor(random_state=42), DecisionTreeRegressor(random_state=42), GradientBoostingRegressor(random_state=42), CommitteeRegressor(committee_list)]\n",
    "model_names = [\"Random Forest\", \"Gradient Boosting\", \"Decision Tree\", \"Committee Regressor\"]\n",
    "mape_dict = {}\n",
    "\n",
    "for j, model in enumerate(models):\n",
    "    prog        = 0\n",
    "    y_GT        = []\n",
    "    y_PT        = []\n",
    "    abserror    = []\n",
    "    print(\"=-=-=-=-=-=-=-=-=-=-=-=-=-=-=-=-=-=-=-=-=-=-=-=-=-=-=-=-=-==-=-=-=-=\")\n",
    "    print(\"{0} Regressor for FEV1 with {1} features\".format(model_names[j],30))\n",
    "    # For every split obtained by Leave_One_Out split function.\n",
    "    for i,(train_index, test_index) in enumerate(loo.split(X1)):\n",
    "        \n",
    "        # To show some sort of progress.\n",
    "        prog = prog + 1\n",
    "        print(\"Progress : {0}/{1}\".format(prog,tot),end = '\\r')\n",
    "\n",
    "        # Test-train split for the fold.\n",
    "        X_Train, X_Test = X1.iloc[train_index],X1.iloc[test_index]\n",
    "        y_Train, y_Test = y.iloc[train_index],y.iloc[test_index]\n",
    "        \n",
    "        # Training new Random Forest ensemble.\n",
    "        model.fit(X_Train, y_Train)\n",
    "        pred = model.predict(X_Test)  \n",
    "\n",
    "        # print(\"Ground Truth : {0}\".format(np.array(y_Test)[0]))\n",
    "        # Storing the values of Ground truth and Predicted value for future use.\n",
    "        # print(np.array(y_Test)[0])\n",
    "        y_GT.append(np.array(y_Test)[0])\n",
    "        y_PT.append(pred[0]) \n",
    "\n",
    "\n",
    "    print(\"=-=-=-=-=-=-=-=-=-=-=-=-=-=-=-=-=-=-=-=-=-=\")\n",
    "    print(\"{0} metrics : \".format(model_names[j]))\n",
    "    mape = 100 * mean_absolute_percentage_error(y_GT,y_PT)\n",
    "    print(\"\\tMean Absolute Percentage Error : \" , mape)\n",
    "    mape_dict[model_names[j]] = mape\n",
    "    print(\"\\tMean Aabsolute Error : \" , mean_absolute_error(y_GT,y_PT))\n",
    "    print(\"\\tMean Square Error : \" , mean_squared_error(y_GT,y_PT,squared=False))\n",
    "    print(\"=-=-=-=-=-=-=-=-=-=-=-=-=-=-=-=-=-=-=-=-=-=\")\n",
    "\n",
    "print(mape_dict)\n",
    "\n",
    "with open('../results/figure6/fev1/mape_dict.pkl', 'wb') as f:\n",
    "    pickle.dump(mape_dict, f)"
   ]
  },
  {
   "cell_type": "code",
   "execution_count": 9,
   "metadata": {},
   "outputs": [],
   "source": [
    "# load data\n",
    "with open('../results/figure6/fvc/mape_dict.pkl', 'rb') as f:\n",
    "    fvc_values = pickle.load(f)\n",
    "\n",
    "with open('../results/figure6/fev1/mape_dict.pkl', 'rb') as f:\n",
    "    fev_values = pickle.load(f)"
   ]
  },
  {
   "cell_type": "code",
   "execution_count": 10,
   "metadata": {},
   "outputs": [],
   "source": [
    "fvc_values = [round(value, 2) for value in fvc_values.values()]\n",
    "fev_values = [round(value, 2) for value in fev_values.values()]"
   ]
  },
  {
   "cell_type": "code",
   "execution_count": 11,
   "metadata": {},
   "outputs": [],
   "source": [
    "# fvc_values"
   ]
  },
  {
   "cell_type": "code",
   "execution_count": 12,
   "metadata": {},
   "outputs": [
    {
     "data": {
      "image/png": "[encoded data removed]",
      "text/plain": [
       "<Figure size 650x401.722 with 1 Axes>"
      ]
     },
     "metadata": {},
     "output_type": "display_data"
    }
   ],
   "source": [
    "#Without Demographics\n",
    "plt.rcParams.update(bundles.tmlr2023())\n",
    "\n",
    "# legend_labels = ['RF','DT','GB','MLP', 'RegressorCommittee']\n",
    "legend_labels = ['RF','DT','GB','RegressorCommittee']\n",
    "\n",
    "# colors = [\"#f44336\",\"#9c27b0\",\"#3f51b5\",\"#2196f3\",\"#4caf50\"]\n",
    "colors = [\"#f44336\",\"#9c27b0\",\"#3f51b5\",\"#4caf50\"]\n",
    "\n",
    "plt.rcParams['axes.labelsize']=12\n",
    "plt.rcParams['legend.fontsize']=9\n",
    "fig = plt.figure()\n",
    "ax = fig.gca()\n",
    "# Define the data\n",
    "labels = ['FVC','FEV1']\n",
    "data = [fvc_values,fev_values]\n",
    "bar_width = 0.15\n",
    "x = np.arange(len(labels))\n",
    "\n",
    "for m,i in enumerate(zip(legend_labels,colors)):\n",
    "    rects = ax.bar(x + m*bar_width, [d[m] for d in data], bar_width, label=i[0],color=i[1])\n",
    "\n",
    "for bar in ax.patches:\n",
    "    cy = bar.get_y() + bar.get_height() + 0.25\n",
    "    cx = bar.get_x() + bar.get_width() / 2\n",
    "    ax.text(\n",
    "        cx,\n",
    "        cy,\n",
    "        f\"{bar.get_height():.2f}\",\n",
    "        rotation=0,\n",
    "        color=\"black\",\n",
    "        fontsize=10,\n",
    "        ha=\"center\",\n",
    "        va=\"center\",\n",
    "        zorder=2,\n",
    "        weight=\"bold\",\n",
    "    )\n",
    "# Add labels and title\n",
    "\n",
    "x = np.arange(2)\n",
    "plt.xlabel('Tasks')\n",
    "# plt.axhline(y=7, color='r', linestyle='--',label='7% ATS Line')\n",
    "plt.ylabel('MAPE (Lower is Better)')\n",
    "plt.xticks(x+0.22, ['FVC','FEV1'])\n",
    "plt.legend(ncol=3)\n",
    "\n",
    "plt.ylim(0,8)\n",
    "# savefig(\"loocv_results.pdf\")\n",
    "sns.despine()\n",
    "\n",
    "plt.savefig('../figures/loocv.pdf', format='pdf')\n",
    "\n",
    "plt.show()"
   ]
  }
 ],
 "metadata": {
  "kernelspec": {
   "display_name": "madhav",
   "language": "python",
   "name": "python3"
  },
  "language_info": {
   "codemirror_mode": {
    "name": "ipython",
    "version": 3
   },
   "file_extension": ".py",
   "mimetype": "text/x-python",
   "name": "python",
   "nbconvert_exporter": "python",
   "pygments_lexer": "ipython3",
   "version": "3.12.0"
  },
  "orig_nbformat": 4
 },
 "nbformat": 4,
 "nbformat_minor": 2
}
