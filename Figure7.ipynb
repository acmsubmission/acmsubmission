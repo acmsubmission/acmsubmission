{
 "cells": [
  {
   "cell_type": "code",
   "execution_count": 1,
   "metadata": {},
   "outputs": [],
   "source": [
    "from sklearn.model_selection import LeaveOneOut, KFold\n",
    "from sklearn.ensemble import RandomForestRegressor\n",
    "from sklearn.metrics import mean_squared_error, mean_absolute_percentage_error,mean_absolute_error\n",
    "import pandas as pd\n",
    "import random\n",
    "import numpy as np\n",
    "from sklearn.preprocessing import StandardScaler, MinMaxScaler\n",
    "import spiro.data_preprocessing\n",
    "\n",
    "random.seed(0)\n",
    "np.random.seed(0)"
   ]
  },
  {
   "cell_type": "code",
   "execution_count": 2,
   "metadata": {},
   "outputs": [],
   "source": [
    "data = pd.read_csv(\"../data/feature_30_joint_51.csv\")\n",
    "data= data[~data.iloc[:,0].isin([21,48])].reset_index(drop=True)\n",
    "data.drop(\"Unnamed: 0\",axis=1,inplace=True)"
   ]
  },
  {
   "cell_type": "code",
   "execution_count": 3,
   "metadata": {},
   "outputs": [],
   "source": [
    "labels = pd.read_csv(\"../data/labels.csv\")"
   ]
  },
  {
   "cell_type": "code",
   "execution_count": 6,
   "metadata": {},
   "outputs": [],
   "source": [
    "final_data= pd.DataFrame(data)"
   ]
  },
  {
   "cell_type": "code",
   "execution_count": 5,
   "metadata": {},
   "outputs": [],
   "source": [
    "demographic_data = pd.read_csv(\"../data/GroundTruth_Dataset.csv\")"
   ]
  },
  {
   "cell_type": "code",
   "execution_count": 7,
   "metadata": {},
   "outputs": [],
   "source": [
    "PID= ['P0', 'P2', 'P3', 'P5', 'P6', 'P9', 'P10', 'P12', 'P13', 'P14', 'P15', 'P17', 'P18', 'P19', 'P20', 'P21', 'P23', 'P26', 'P27', 'P28', 'P29', 'P31', 'P32', 'P33', 'P36','P38', 'P39', 'P40', 'P41', 'P42', 'P43', 'P44', 'P45', 'P46','P50', 'P51', 'P52', 'P53', 'P55', 'P57', 'P58', 'P60', 'P61','P62', 'P63', 'P65', 'P66', 'P69', 'P70', 'P71','P73']"
   ]
  },
  {
   "cell_type": "code",
   "execution_count": 8,
   "metadata": {},
   "outputs": [
    {
     "data": {
      "text/plain": [
       "(51, 17)"
      ]
     },
     "execution_count": 8,
     "metadata": {},
     "output_type": "execute_result"
    }
   ],
   "source": [
    "demographic_data= demographic_data[demographic_data.iloc[:,1].isin(PID)].reset_index(drop=True)\n",
    "demographic_data.shape"
   ]
  },
  {
   "cell_type": "code",
   "execution_count": 9,
   "metadata": {},
   "outputs": [],
   "source": [
    "final_data['Sex'] = demographic_data['Sex'].map({'M': 0, 'F': 1})"
   ]
  },
  {
   "cell_type": "code",
   "execution_count": 10,
   "metadata": {},
   "outputs": [],
   "source": [
    "final_data= pd.concat((final_data,pd.DataFrame(demographic_data.iloc[:,7:10])),axis=1,ignore_index=True)"
   ]
  },
  {
   "cell_type": "code",
   "execution_count": 11,
   "metadata": {},
   "outputs": [],
   "source": [
    "X1 = final_data.iloc[:,:30].astype(float)\n",
    "X1 = MinMaxScaler().fit_transform(np.array(X1))\n",
    "X1 = pd.DataFrame(X1)\n",
    "y = labels.iloc[:,-1].astype(float)\n",
    "\n",
    "\n",
    "X2 = final_data.astype(float)\n",
    "X2 = MinMaxScaler().fit_transform(np.array(X2))\n",
    "X2 = pd.DataFrame(X2)\n",
    "\n",
    "#For FEV1 \n",
    "# y= labels.iloc[:,-2].astype(float)"
   ]
  },
  {
   "cell_type": "code",
   "execution_count": 12,
   "metadata": {},
   "outputs": [
    {
     "data": {
      "text/plain": [
       "((51, 30), (51, 34), (51,))"
      ]
     },
     "execution_count": 12,
     "metadata": {},
     "output_type": "execute_result"
    }
   ],
   "source": [
    "X1.shape,X2.shape,y.shape"
   ]
  },
  {
   "cell_type": "code",
   "execution_count": 13,
   "metadata": {},
   "outputs": [
    {
     "name": "stdout",
     "output_type": "stream",
     "text": [
      "=-=-=-=-=-=-=-=-=-=-=-=-=-=-=-=-=-=-=-=-=-=-=-=-=-=-=-=-=-==-=-=-=-=\n",
      "=-=-=-=-=-=-=-=-=-=-=-=-=-=-=-=-=-=-=-=-=-=\n",
      "Random forest metrics : \n",
      "\tMean Absolute Percentage Error :  4.580250399527127\n",
      "\tMean Aabsolute Error :  0.15071764705882332\n",
      "\tMean Square Error :  0.1915421215130638\n",
      "=-=-=-=-=-=-=-=-=-=-=-=-=-=-=-=-=-=-=-=-=-=\n"
     ]
    }
   ],
   "source": [
    "RF = RandomForestRegressor(random_state=42)\n",
    "# X_train, X_test, X_pool, Y_train, Y_test, Y_pool = data_preprocessing.train_pool_split(X[:,:20], Y, train_idx, test_idx)\n",
    "# Total number of the splits\n",
    "tot = len(X1)\n",
    "# Instantiating Leave_One_Out split function.\n",
    "loo = LeaveOneOut()\n",
    "\n",
    "prog        = 0\n",
    "y_GT        = []\n",
    "y_PT        = []\n",
    "abserror    = []\n",
    "\n",
    "print(\"=-=-=-=-=-=-=-=-=-=-=-=-=-=-=-=-=-=-=-=-=-=-=-=-=-=-=-=-=-==-=-=-=-=\")\n",
    "# print(\"Random Forest Regressor for FVC with {0} features\".format(i))\n",
    "\n",
    "# For every split obtained by Leave_One_Out split function.\n",
    "for i,(train_index, test_index) in enumerate(loo.split(X1)):\n",
    "    \n",
    "    # To show some sort of progress.\n",
    "    prog = prog + 1\n",
    "    print(\"Progress : {0}/{1}\".format(prog,tot),end = '\\r')\n",
    "\n",
    "    # Test-train split for the fold.\n",
    "    X_Train, X_Test = X1.iloc[train_index],X1.iloc[test_index]\n",
    "    y_Train, y_Test = y.iloc[train_index],y.iloc[test_index]\n",
    "    \n",
    "    # Training new Random Forest ensemble.\n",
    "    RF.fit(X_Train, y_Train)\n",
    "    pred = RF.predict(X_Test)  \n",
    "\n",
    "    # print(\"Ground Truth : {0}\".format(np.array(y_Test)[0]))\n",
    "    # Storing the values of Ground truth and Predicted value for future use.\n",
    "    # print(np.array(y_Test)[0])\n",
    "    y_GT.append(np.array(y_Test)[0])\n",
    "    y_PT.append(pred[0]) \n",
    "\n",
    "\n",
    "print(\"=-=-=-=-=-=-=-=-=-=-=-=-=-=-=-=-=-=-=-=-=-=\")\n",
    "print(\"Random forest metrics : \")\n",
    "print(\"\\tMean Absolute Percentage Error : \" , 100 * mean_absolute_percentage_error(y_GT,y_PT))\n",
    "print(\"\\tMean Aabsolute Error : \" , mean_absolute_error(y_GT,y_PT))\n",
    "print(\"\\tMean Square Error : \" , mean_squared_error(y_GT,y_PT,squared=False))\n",
    "print(\"=-=-=-=-=-=-=-=-=-=-=-=-=-=-=-=-=-=-=-=-=-=\")"
   ]
  },
  {
   "cell_type": "code",
   "execution_count": 14,
   "metadata": {},
   "outputs": [
    {
     "name": "stdout",
     "output_type": "stream",
     "text": [
      "=-=-=-=-=-=-=-=-=-=-=-=-=-=-=-=-=-=-=-=-=-=-=-=-=-=-=-=-=-==-=-=-=-=\n",
      "=-=-=-=-=-=-=-=-=-=-=-=-=-=-=-=-=-=-=-=-=-=\n",
      "Random forest metrics : \n",
      "\tMean Absolute Percentage Error :  4.029816167406599\n",
      "\tMean Aabsolute Error :  0.132513725490196\n",
      "\tMean Square Error :  0.17307048433808553\n",
      "=-=-=-=-=-=-=-=-=-=-=-=-=-=-=-=-=-=-=-=-=-=\n"
     ]
    }
   ],
   "source": [
    "RF = RandomForestRegressor(random_state=42)\n",
    "# RF = GradientBoostingRegressor(random_state=42)\n",
    "# RF = DecisionTreeRegressor(random_state=0)\n",
    "# X_train, X_test, X_pool, Y_train, Y_test, Y_pool = data_preprocessing.train_pool_split(X[:,:20], Y, train_idx, test_idx)\n",
    "# Total number of the splits\n",
    "tot = len(X2)\n",
    "# Instantiating Leave_One_Out split function.\n",
    "loo = LeaveOneOut()\n",
    "\n",
    "prog        = 0\n",
    "y_GT_2        = []\n",
    "y_PT_2        = []\n",
    "abserror_2    = []\n",
    "\n",
    "print(\"=-=-=-=-=-=-=-=-=-=-=-=-=-=-=-=-=-=-=-=-=-=-=-=-=-=-=-=-=-==-=-=-=-=\")\n",
    "# print(\"Random Forest Regressor for FVC with {0} features\".format(i))\n",
    "\n",
    "# For every split obtained by Leave_One_Out split function.\n",
    "for i,(train_index, test_index) in enumerate(loo.split(X2)):\n",
    "    \n",
    "    # To show some sort of progress.\n",
    "    prog = prog + 1\n",
    "    print(\"Progress : {0}/{1}\".format(prog,tot),end = '\\r')\n",
    "\n",
    "    # Test-train split for the fold.\n",
    "    X_Train, X_Test = X2.iloc[train_index],X2.iloc[test_index]\n",
    "    y_Train, y_Test = y.iloc[train_index],y.iloc[test_index]\n",
    "    \n",
    "    # Training new Random Forest ensemble.\n",
    "    RF.fit(X_Train, y_Train)\n",
    "    pred = RF.predict(X_Test)  \n",
    "\n",
    "    # print(\"Ground Truth : {0}\".format(np.array(y_Test)[0]))\n",
    "    # Storing the values of Ground truth and Predicted value for future use.\n",
    "    # print(np.array(y_Test)[0])\n",
    "    y_GT_2.append(np.array(y_Test)[0])\n",
    "    y_PT_2.append(pred[0]) \n",
    "\n",
    "\n",
    "print(\"=-=-=-=-=-=-=-=-=-=-=-=-=-=-=-=-=-=-=-=-=-=\")\n",
    "print(\"Random forest metrics : \")\n",
    "print(\"\\tMean Absolute Percentage Error : \" , 100 * mean_absolute_percentage_error(y_GT_2,y_PT_2))\n",
    "print(\"\\tMean Aabsolute Error : \" , mean_absolute_error(y_GT_2,y_PT_2))\n",
    "print(\"\\tMean Square Error : \" , mean_squared_error(y_GT_2,y_PT_2,squared=False))\n",
    "print(\"=-=-=-=-=-=-=-=-=-=-=-=-=-=-=-=-=-=-=-=-=-=\")"
   ]
  },
  {
   "cell_type": "code",
   "execution_count": 15,
   "metadata": {},
   "outputs": [],
   "source": [
    "mape_error = []\n",
    "for i in range(len(y_GT)):\n",
    "    mape_error.append(100*(abs((y_GT[i]-y_PT[i])/y_GT[i])))"
   ]
  },
  {
   "cell_type": "code",
   "execution_count": 16,
   "metadata": {},
   "outputs": [],
   "source": [
    "mape_error_2 = []\n",
    "for i in range(len(y_GT_2)):\n",
    "    mape_error_2.append(100*(abs((y_GT_2[i]-y_PT_2[i])/y_GT_2[i])))"
   ]
  },
  {
   "cell_type": "code",
   "execution_count": 17,
   "metadata": {},
   "outputs": [
    {
     "name": "stdout",
     "output_type": "stream",
     "text": [
      "16\n",
      "Average : 4.882766281202224\n"
     ]
    }
   ],
   "source": [
    "idx = [0,7,8,9,17,18,30,31,34,35,36,37,38,39,40,45] # Female indices\n",
    "# idx= [5,6,7,11,12,13,14,20,23] #Unhealthy Participants\n",
    "print(len(idx))\n",
    "s=0\n",
    "p=0\n",
    "q=0\n",
    "m=0\n",
    "for i in idx:\n",
    "    # print(\"Patient {0} : {1}\".format(i,mape_error[i]))\n",
    "    # print(y_GT[i],y_1PT[i])\n",
    "    p+= y_GT[i]\n",
    "    q+= y_PT[i]\n",
    "    m+=1\n",
    "    s+=mape_error[i]\n",
    "print(\"Average : {0}\".format(s/len(idx)))\n",
    "# print(q/m)\n",
    "# print(p/m)\n"
   ]
  },
  {
   "cell_type": "code",
   "execution_count": 18,
   "metadata": {},
   "outputs": [
    {
     "name": "stdout",
     "output_type": "stream",
     "text": [
      "4.441957425047084\n",
      "35\n"
     ]
    }
   ],
   "source": [
    "s=0\n",
    "m=0\n",
    "p=0\n",
    "q=0\n",
    "for i in range(len(mape_error)):\n",
    "    if i not in idx:\n",
    "        m+= 1\n",
    "        p+= y_GT[i]\n",
    "        q+= y_PT[i]\n",
    "        s+=mape_error[i]\n",
    "print(s/m)\n",
    "print(m)\n"
   ]
  },
  {
   "cell_type": "markdown",
   "metadata": {},
   "source": [
    "# With demographics"
   ]
  },
  {
   "cell_type": "markdown",
   "metadata": {},
   "source": [
    "## female"
   ]
  },
  {
   "cell_type": "code",
   "execution_count": 19,
   "metadata": {},
   "outputs": [
    {
     "name": "stdout",
     "output_type": "stream",
     "text": [
      "16\n",
      "Average : 3.49188731719667\n"
     ]
    }
   ],
   "source": [
    "idx = [0,7,8,9,17,18,30,31,34,35,36,37,38,39,40,45] # Female indices\n",
    "# idx= [5,6,7,11,12,13,14,20,23] #Unhealthy Participants\n",
    "print(len(idx))\n",
    "s=0\n",
    "p=0\n",
    "q=0\n",
    "m=0\n",
    "for i in idx:\n",
    "    # print(\"Patient {0} : {1}\".format(i,mape_error[i]))\n",
    "    # print(y_GT[i],y_1PT[i])\n",
    "    p+= y_GT_2[i]\n",
    "    q+= y_PT_2[i]\n",
    "    m+=1\n",
    "    s+=mape_error_2[i]\n",
    "print(\"Average : {0}\".format(s/len(idx)))\n",
    "# print(q/m)\n",
    "# print(p/m)\n"
   ]
  },
  {
   "cell_type": "markdown",
   "metadata": {},
   "source": [
    "## Male"
   ]
  },
  {
   "cell_type": "code",
   "execution_count": 20,
   "metadata": {},
   "outputs": [
    {
     "name": "stdout",
     "output_type": "stream",
     "text": [
      "4.275726498931139\n",
      "35\n"
     ]
    }
   ],
   "source": [
    "s=0\n",
    "m=0\n",
    "p=0\n",
    "q=0\n",
    "for i in range(len(mape_error_2)):\n",
    "    if i not in idx:\n",
    "        # print(\"Patient {0} : {1}\".format(i,mape_error[i]))\n",
    "        m+= 1\n",
    "        # print(y_GT[i],y_PT[i])\n",
    "        p+= y_GT_2[i]\n",
    "        q+= y_PT_2[i]\n",
    "        s+=mape_error_2[i]\n",
    "# print(s)\n",
    "# print(\"Average : {0}\".format(s/(len(mape_error)-len(idx))))\n",
    "print(s/m)\n",
    "print(m)\n"
   ]
  }
 ],
 "metadata": {
  "kernelspec": {
   "display_name": "madhav",
   "language": "python",
   "name": "python3"
  },
  "language_info": {
   "codemirror_mode": {
    "name": "ipython",
    "version": 3
   },
   "file_extension": ".py",
   "mimetype": "text/x-python",
   "name": "python",
   "nbconvert_exporter": "python",
   "pygments_lexer": "ipython3",
   "version": "3.12.0"
  },
  "orig_nbformat": 4
 },
 "nbformat": 4,
 "nbformat_minor": 2
}
